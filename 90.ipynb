{
  "nbformat": 4,
  "nbformat_minor": 0,
  "metadata": {
    "colab": {
      "name": "Untitled10.ipynb",
      "provenance": [],
      "authorship_tag": "ABX9TyPvYmjCidFRxNWkYm9SFv6j",
      "include_colab_link": true
    },
    "kernelspec": {
      "name": "python3",
      "display_name": "Python 3"
    }
  },
  "cells": [
    {
      "cell_type": "markdown",
      "metadata": {
        "id": "view-in-github",
        "colab_type": "text"
      },
      "source": [
        "<a href=\"https://colab.research.google.com/github/SreeBhargaviM/Daily-Coding-Challenge/blob/master/90.ipynb\" target=\"_parent\"><img src=\"https://colab.research.google.com/assets/colab-badge.svg\" alt=\"Open In Colab\"/></a>"
      ]
    },
    {
      "cell_type": "markdown",
      "metadata": {
        "id": "nbEDIQ2XhdM_",
        "colab_type": "text"
      },
      "source": [
        "This question was asked by Google.\n",
        "\n",
        "Given an integer n and a list of integers l, write a function that randomly generates a number from 0 to n-1 that isn't in l (uniform)."
      ]
    },
    {
      "cell_type": "code",
      "metadata": {
        "id": "X8gXMuLbfzUf",
        "colab_type": "code",
        "colab": {}
      },
      "source": [
        "def random_num(n,l):\n",
        "  import random as rn\n",
        "  num = rn.randrange(n)\n",
        "  l1 = len(l)\n",
        "  l = [i for i in l if i!=num]\n",
        "  l2 = len(l)\n",
        "  if l1 == l2:\n",
        "    return num\n",
        "  else:\n",
        "    return random_num(n,l)"
      ],
      "execution_count": 3,
      "outputs": []
    },
    {
      "cell_type": "code",
      "metadata": {
        "id": "1RbZzgMsg1hE",
        "colab_type": "code",
        "colab": {
          "base_uri": "https://localhost:8080/",
          "height": 34
        },
        "outputId": "ddf287f8-50fe-42ea-bcdc-841f63ba8bec"
      },
      "source": [
        "random_num(5,[1,8,4,3,10])"
      ],
      "execution_count": 6,
      "outputs": [
        {
          "output_type": "execute_result",
          "data": {
            "text/plain": [
              "0"
            ]
          },
          "metadata": {
            "tags": []
          },
          "execution_count": 6
        }
      ]
    }
  ]
}