{
  "nbformat": 4,
  "nbformat_minor": 0,
  "metadata": {
    "colab": {
      "name": "Untitled4.ipynb",
      "provenance": [],
      "authorship_tag": "ABX9TyM2Xi/AvCiYpdrrpOcaUN9g",
      "include_colab_link": true
    },
    "kernelspec": {
      "name": "python3",
      "display_name": "Python 3"
    }
  },
  "cells": [
    {
      "cell_type": "markdown",
      "metadata": {
        "id": "view-in-github",
        "colab_type": "text"
      },
      "source": [
        "<a href=\"https://colab.research.google.com/github/SreeBhargaviM/Daily-Coding-Challenge/blob/master/71.ipynb\" target=\"_parent\"><img src=\"https://colab.research.google.com/assets/colab-badge.svg\" alt=\"Open In Colab\"/></a>"
      ]
    },
    {
      "cell_type": "markdown",
      "metadata": {
        "id": "nQRFSLS-bYCk",
        "colab_type": "text"
      },
      "source": [
        "Good morning! Here's your coding interview problem for today.\n",
        "This problem was asked by Two Sigma.\n",
        "\n",
        "Using a function rand7() that returns an integer from 1 to 7 (inclusive) with uniform probability, implement a function rand5() that returns an integer from 1 to 5 (inclusive)."
      ]
    },
    {
      "cell_type": "code",
      "metadata": {
        "id": "5mMpezaibHu2",
        "colab_type": "code",
        "colab": {}
      },
      "source": [
        "def rand7():\n",
        "  import random as rn\n",
        "  return rn.randrange(1,8)"
      ],
      "execution_count": 11,
      "outputs": []
    },
    {
      "cell_type": "code",
      "metadata": {
        "id": "j5NIias1ceOn",
        "colab_type": "code",
        "colab": {
          "base_uri": "https://localhost:8080/",
          "height": 34
        },
        "outputId": "2db9c993-918c-492e-a152-f95feb5329e9"
      },
      "source": [
        "rand7()"
      ],
      "execution_count": 7,
      "outputs": [
        {
          "output_type": "execute_result",
          "data": {
            "text/plain": [
              "7"
            ]
          },
          "metadata": {
            "tags": []
          },
          "execution_count": 7
        }
      ]
    },
    {
      "cell_type": "code",
      "metadata": {
        "id": "vsfK4y84cj86",
        "colab_type": "code",
        "colab": {}
      },
      "source": [
        "def rand5():\n",
        "  num = rand7()\n",
        "  if num<6:\n",
        "    return num\n",
        "  else:\n",
        "    return rand5()"
      ],
      "execution_count": 4,
      "outputs": []
    },
    {
      "cell_type": "code",
      "metadata": {
        "id": "2Nl78_aBc4O-",
        "colab_type": "code",
        "colab": {
          "base_uri": "https://localhost:8080/",
          "height": 34
        },
        "outputId": "3c6b5f09-9bf9-4358-c0b0-15d1446407df"
      },
      "source": [
        "rand5()"
      ],
      "execution_count": 12,
      "outputs": [
        {
          "output_type": "execute_result",
          "data": {
            "text/plain": [
              "2"
            ]
          },
          "metadata": {
            "tags": []
          },
          "execution_count": 12
        }
      ]
    }
  ]
}