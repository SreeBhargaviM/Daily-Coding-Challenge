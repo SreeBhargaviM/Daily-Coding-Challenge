{
  "nbformat": 4,
  "nbformat_minor": 0,
  "metadata": {
    "colab": {
      "name": "Untitled17.ipynb",
      "provenance": [],
      "authorship_tag": "ABX9TyPk73qPe6lrHbi1z9fvxvdC",
      "include_colab_link": true
    },
    "kernelspec": {
      "name": "python3",
      "display_name": "Python 3"
    }
  },
  "cells": [
    {
      "cell_type": "markdown",
      "metadata": {
        "id": "view-in-github",
        "colab_type": "text"
      },
      "source": [
        "<a href=\"https://colab.research.google.com/github/SreeBhargaviM/Daily-Coding-Challenge/blob/master/96.ipynb\" target=\"_parent\"><img src=\"https://colab.research.google.com/assets/colab-badge.svg\" alt=\"Open In Colab\"/></a>"
      ]
    },
    {
      "cell_type": "markdown",
      "metadata": {
        "id": "TRJdABf_nE7A",
        "colab_type": "text"
      },
      "source": [
        "Given a number in the form of a list of digits, return all possible permutations.\n",
        "\n",
        "For example, given [1,2,3], return [[1,2,3],[1,3,2],[2,1,3],[2,3,1],[3,1,2],[3,2,1]]"
      ]
    },
    {
      "cell_type": "code",
      "metadata": {
        "id": "MqqJIOK5lix8",
        "colab_type": "code",
        "colab": {}
      },
      "source": [
        "def get_perms(l):\n",
        "  from itertools import permutations\n",
        "  return list(permutations(l,len(l)))"
      ],
      "execution_count": 4,
      "outputs": []
    },
    {
      "cell_type": "code",
      "metadata": {
        "id": "izBtp2MomZnB",
        "colab_type": "code",
        "colab": {
          "base_uri": "https://localhost:8080/",
          "height": 425
        },
        "outputId": "632e691c-362e-4eb4-97be-f93e639db508"
      },
      "source": [
        "get_perms([1,2,3,5])"
      ],
      "execution_count": 8,
      "outputs": [
        {
          "output_type": "execute_result",
          "data": {
            "text/plain": [
              "[(1, 2, 3, 5),\n",
              " (1, 2, 5, 3),\n",
              " (1, 3, 2, 5),\n",
              " (1, 3, 5, 2),\n",
              " (1, 5, 2, 3),\n",
              " (1, 5, 3, 2),\n",
              " (2, 1, 3, 5),\n",
              " (2, 1, 5, 3),\n",
              " (2, 3, 1, 5),\n",
              " (2, 3, 5, 1),\n",
              " (2, 5, 1, 3),\n",
              " (2, 5, 3, 1),\n",
              " (3, 1, 2, 5),\n",
              " (3, 1, 5, 2),\n",
              " (3, 2, 1, 5),\n",
              " (3, 2, 5, 1),\n",
              " (3, 5, 1, 2),\n",
              " (3, 5, 2, 1),\n",
              " (5, 1, 2, 3),\n",
              " (5, 1, 3, 2),\n",
              " (5, 2, 1, 3),\n",
              " (5, 2, 3, 1),\n",
              " (5, 3, 1, 2),\n",
              " (5, 3, 2, 1)]"
            ]
          },
          "metadata": {
            "tags": []
          },
          "execution_count": 8
        }
      ]
    }
  ]
}