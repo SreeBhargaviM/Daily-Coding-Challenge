{
  "nbformat": 4,
  "nbformat_minor": 0,
  "metadata": {
    "colab": {
      "name": "Untitled15.ipynb",
      "provenance": [],
      "authorship_tag": "ABX9TyP6WCmia1wsJ1KOeWU5QSGd",
      "include_colab_link": true
    },
    "kernelspec": {
      "name": "python3",
      "display_name": "Python 3"
    }
  },
  "cells": [
    {
      "cell_type": "markdown",
      "metadata": {
        "id": "view-in-github",
        "colab_type": "text"
      },
      "source": [
        "<a href=\"https://colab.research.google.com/github/SreeBhargaviM/Daily-Coding-Challenge/blob/master/95.ipynb\" target=\"_parent\"><img src=\"https://colab.research.google.com/assets/colab-badge.svg\" alt=\"Open In Colab\"/></a>"
      ]
    },
    {
      "cell_type": "markdown",
      "metadata": {
        "id": "ddSgiwzCbk_W",
        "colab_type": "text"
      },
      "source": [
        "This problem was asked by Palantir.\n",
        "\n",
        "Given a number represented by a list of digits, find the next greater permutation of a number, in terms of lexicographic ordering. If there is not greater permutation possible, return the permutation with the lowest value/ordering.\n",
        "\n",
        "For example, the list [1,2,3] should return [1,3,2]. The list [1,3,2] should return [2,1,3]. The list [3,2,1] should return [1,2,3]."
      ]
    },
    {
      "cell_type": "code",
      "metadata": {
        "id": "jCny6t86SEGx",
        "colab_type": "code",
        "colab": {}
      },
      "source": [
        "def greater_perm(m):\n",
        "  import copy as cp\n",
        "  m1 = cp.deepcopy(m)\n",
        "  m1.sort(reverse = True)\n",
        "  if m1 == m:\n",
        "    m1.sort()\n",
        "    return m1\n",
        "  check = 0\n",
        "  for i in range(len(m)-1,1,-1):\n",
        "    if m[i]>m[i-1]:\n",
        "      a = m[i-1]\n",
        "      m[i-1] = m[i]\n",
        "      m[i] = a\n",
        "      check = check + 1\n",
        "      break\n",
        "  if check != 0:\n",
        "    return m\n",
        "  else:\n",
        "    fin = []\n",
        "    a = m[0]\n",
        "    inter = m[1:]\n",
        "    inter.sort()\n",
        "    for i in inter:\n",
        "      if i > a:\n",
        "        a_new = i\n",
        "        break\n",
        "    inter.remove(a_new)\n",
        "    inter.append(a)\n",
        "    inter.sort()\n",
        "    fin = [a_new]+inter\n",
        "    return fin\n"
      ],
      "execution_count": 35,
      "outputs": []
    },
    {
      "cell_type": "code",
      "metadata": {
        "id": "k1Gvb6tDSmLJ",
        "colab_type": "code",
        "colab": {
          "base_uri": "https://localhost:8080/",
          "height": 34
        },
        "outputId": "9293faba-de68-4afe-d0e6-efd7934fd723"
      },
      "source": [
        "greater_perm([4,9,5,2,1])"
      ],
      "execution_count": 37,
      "outputs": [
        {
          "output_type": "execute_result",
          "data": {
            "text/plain": [
              "[5, 1, 2, 4, 9]"
            ]
          },
          "metadata": {
            "tags": []
          },
          "execution_count": 37
        }
      ]
    },
    {
      "cell_type": "markdown",
      "metadata": {
        "id": "Wp_ifYC7odPn",
        "colab_type": "text"
      },
      "source": [
        "Can you perform the operation without allocating extra memory (disregarding the input memory)?"
      ]
    },
    {
      "cell_type": "code",
      "metadata": {
        "id": "8SO65Q7DmrGU",
        "colab_type": "code",
        "colab": {}
      },
      "source": [
        "def bubble_sort(lis,st,sto):\n",
        "  lis1 = lis[st:sto]\n",
        "  for i in range(len(lis1)):\n",
        "    for j in range(len(lis1)-1):\n",
        "      if lis1[j] > lis1[j+1]:\n",
        "        a = lis1[j] \n",
        "        lis1[j] = lis1[j+1]\n",
        "        lis1[j+1] = a\n",
        "  return lis[0:st]+lis1\n",
        "\n",
        "def greater_perm2(m):\n",
        "  #import copy as cp\n",
        "  #m1 = cp.deepcopy(m)\n",
        "  #m1.sort(reverse = True)\n",
        "  #if m1 == m:\n",
        "   # m1.sort()\n",
        "    #return m1\n",
        "  check = 0\n",
        "  for i in range(len(m)-1):\n",
        "    if m[i]>m[i+1]:\n",
        "      check = check + 1\n",
        "  if check == len(m)-1:\n",
        "    m.sort()\n",
        "    return m\n",
        "  check = 0\n",
        "  for i in range(len(m)-1,1,-1):\n",
        "    if m[i]>m[i-1]:\n",
        "      a = m[i-1]\n",
        "      m[i-1] = m[i]\n",
        "      m[i] = a\n",
        "      check = check + 1\n",
        "      break\n",
        "  if check != 0:\n",
        "    return m\n",
        "  else:\n",
        "    m = bubble_sort(m,1,len(m))\n",
        "    for i in range(1,len(m)):\n",
        "      if m[i] > m[0]:\n",
        "        a = m[0]\n",
        "        m[0] = m[i]\n",
        "        m[i] = a\n",
        "        break\n",
        "    return m\n",
        "\n"
      ],
      "execution_count": 56,
      "outputs": []
    },
    {
      "cell_type": "code",
      "metadata": {
        "id": "SkYZO0VUnqJy",
        "colab_type": "code",
        "colab": {
          "base_uri": "https://localhost:8080/",
          "height": 34
        },
        "outputId": "ab8dd946-760d-4e27-afa4-c8055e4722f0"
      },
      "source": [
        "greater_perm2([4,9,5,2,1])"
      ],
      "execution_count": 48,
      "outputs": [
        {
          "output_type": "execute_result",
          "data": {
            "text/plain": [
              "[5, 1, 2, 4, 9]"
            ]
          },
          "metadata": {
            "tags": []
          },
          "execution_count": 48
        }
      ]
    },
    {
      "cell_type": "code",
      "metadata": {
        "id": "dY2uUkqApdJX",
        "colab_type": "code",
        "colab": {
          "base_uri": "https://localhost:8080/",
          "height": 34
        },
        "outputId": "016e321f-ef0f-419a-efaf-2ef8d058bfd9"
      },
      "source": [
        "greater_perm2([3,2,1])"
      ],
      "execution_count": 57,
      "outputs": [
        {
          "output_type": "execute_result",
          "data": {
            "text/plain": [
              "[1, 2, 3]"
            ]
          },
          "metadata": {
            "tags": []
          },
          "execution_count": 57
        }
      ]
    },
    {
      "cell_type": "code",
      "metadata": {
        "id": "yyMYw_Sfl4zc",
        "colab_type": "code",
        "colab": {
          "base_uri": "https://localhost:8080/",
          "height": 34
        },
        "outputId": "5ac194b3-2181-439f-afb6-6576b60a88b7"
      },
      "source": [
        "bubble_sort([4,9,5,2,1],1,5)"
      ],
      "execution_count": 46,
      "outputs": [
        {
          "output_type": "execute_result",
          "data": {
            "text/plain": [
              "[4, 1, 2, 5, 9]"
            ]
          },
          "metadata": {
            "tags": []
          },
          "execution_count": 46
        }
      ]
    },
    {
      "cell_type": "code",
      "metadata": {
        "id": "aoO9i638pw6A",
        "colab_type": "code",
        "colab": {
          "base_uri": "https://localhost:8080/",
          "height": 34
        },
        "outputId": "60c14f58-b576-4f5b-c968-91b8cfb75d84"
      },
      "source": [
        "rr = [3,2,1]\n",
        "c = 0\n",
        "for i in range(len(rr)-1):\n",
        "  if rr[i]>rr[i+1]:\n",
        "    c = c+1\n",
        "if c == len(rr)-1:\n",
        "  rr.sort()\n",
        "  print(rr) "
      ],
      "execution_count": 51,
      "outputs": [
        {
          "output_type": "stream",
          "text": [
            "[1, 2, 3]\n"
          ],
          "name": "stdout"
        }
      ]
    },
    {
      "cell_type": "code",
      "metadata": {
        "id": "4aTzWWmmPnic",
        "colab_type": "code",
        "colab": {
          "base_uri": "https://localhost:8080/",
          "height": 34
        },
        "outputId": "5a29bdc9-7620-4827-8424-20586b7aec6e"
      },
      "source": [
        "l = [1,3,2]\n",
        "import copy as cp\n",
        "l1 = cp.deepcopy(l)\n",
        "l1.sort()\n",
        "l1"
      ],
      "execution_count": 24,
      "outputs": [
        {
          "output_type": "execute_result",
          "data": {
            "text/plain": [
              "[1, 2, 3]"
            ]
          },
          "metadata": {
            "tags": []
          },
          "execution_count": 24
        }
      ]
    },
    {
      "cell_type": "code",
      "metadata": {
        "id": "XeNhX9F2RRv9",
        "colab_type": "code",
        "colab": {
          "base_uri": "https://localhost:8080/",
          "height": 34
        },
        "outputId": "4696ce72-7b21-4154-b9c7-cef2ac0e4e79"
      },
      "source": [
        "l"
      ],
      "execution_count": 30,
      "outputs": [
        {
          "output_type": "execute_result",
          "data": {
            "text/plain": [
              "[1, 3, 2]"
            ]
          },
          "metadata": {
            "tags": []
          },
          "execution_count": 30
        }
      ]
    },
    {
      "cell_type": "code",
      "metadata": {
        "id": "_FWR0-J6RX3g",
        "colab_type": "code",
        "colab": {
          "base_uri": "https://localhost:8080/",
          "height": 34
        },
        "outputId": "34164447-87bd-4ebb-be14-852376a20ec7"
      },
      "source": [
        "if l1 == l:\n",
        "  a = 10000\n",
        "else:\n",
        "  a = -200\n",
        "a"
      ],
      "execution_count": 4,
      "outputs": [
        {
          "output_type": "execute_result",
          "data": {
            "text/plain": [
              "-200"
            ]
          },
          "metadata": {
            "tags": []
          },
          "execution_count": 4
        }
      ]
    },
    {
      "cell_type": "code",
      "metadata": {
        "id": "1t7oXAclXLbY",
        "colab_type": "code",
        "colab": {
          "base_uri": "https://localhost:8080/",
          "height": 34
        },
        "outputId": "d7fbf869-b38d-44eb-e426-c7d01aef95bf"
      },
      "source": [
        "l2 = l[1:]\n",
        "l2.sort()\n",
        "l2"
      ],
      "execution_count": 31,
      "outputs": [
        {
          "output_type": "execute_result",
          "data": {
            "text/plain": [
              "[2, 3]"
            ]
          },
          "metadata": {
            "tags": []
          },
          "execution_count": 31
        }
      ]
    },
    {
      "cell_type": "code",
      "metadata": {
        "id": "NEFDsag9aPDH",
        "colab_type": "code",
        "colab": {
          "base_uri": "https://localhost:8080/",
          "height": 34
        },
        "outputId": "98294336-0708-4d09-c743-bc5472c2a2ed"
      },
      "source": [
        "l"
      ],
      "execution_count": 32,
      "outputs": [
        {
          "output_type": "execute_result",
          "data": {
            "text/plain": [
              "[1, 3, 2]"
            ]
          },
          "metadata": {
            "tags": []
          },
          "execution_count": 32
        }
      ]
    },
    {
      "cell_type": "code",
      "metadata": {
        "id": "DVd9nawTcVKQ",
        "colab_type": "code",
        "colab": {
          "base_uri": "https://localhost:8080/",
          "height": 34
        },
        "outputId": "a16fca23-0c69-4571-a281-341dc4f49715"
      },
      "source": [
        "q = [4,9,5,2,1]\n",
        "q[1:].sort()\n",
        "q"
      ],
      "execution_count": 38,
      "outputs": [
        {
          "output_type": "execute_result",
          "data": {
            "text/plain": [
              "[4, 9, 5, 2, 1]"
            ]
          },
          "metadata": {
            "tags": []
          },
          "execution_count": 38
        }
      ]
    }
  ]
}