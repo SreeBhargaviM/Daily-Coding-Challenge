{
  "nbformat": 4,
  "nbformat_minor": 0,
  "metadata": {
    "colab": {
      "name": "Untitled7.ipynb",
      "provenance": [],
      "authorship_tag": "ABX9TyOnAViWeCRx5ORI0yKqRXnE",
      "include_colab_link": true
    },
    "kernelspec": {
      "name": "python3",
      "display_name": "Python 3"
    }
  },
  "cells": [
    {
      "cell_type": "markdown",
      "metadata": {
        "id": "view-in-github",
        "colab_type": "text"
      },
      "source": [
        "<a href=\"https://colab.research.google.com/github/SreeBhargaviM/Daily-Coding-Challenge/blob/master/88.ipynb\" target=\"_parent\"><img src=\"https://colab.research.google.com/assets/colab-badge.svg\" alt=\"Open In Colab\"/></a>"
      ]
    },
    {
      "cell_type": "markdown",
      "metadata": {
        "id": "aI9hS4MFFJOy",
        "colab_type": "text"
      },
      "source": [
        "This question was asked by ContextLogic.\n",
        "Implement division of two positive integers without using the division, multiplication, or modulus operators. Return the quotient as an integer, ignoring the remainder."
      ]
    },
    {
      "cell_type": "code",
      "metadata": {
        "id": "B3JQHGQPQ_mS",
        "colab_type": "code",
        "colab": {}
      },
      "source": [
        "def divider(a,b):\n",
        "\n",
        "  a_abs = abs(a)\n",
        "  b_abs = abs(b)\n",
        "  signcheck = 0\n",
        "  if b == 0:\n",
        "    return 'not possible'\n",
        "  if a<0:\n",
        "    signcheck = signcheck + 1\n",
        "  if b<0:\n",
        "    signcheck = signcheck + 1\n",
        "  \n",
        "  q = 0\n",
        "  tot = 0\n",
        "  diff = 1000000\n",
        "  while diff >= b_abs:\n",
        "    diff = a_abs - tot\n",
        "    tot = tot + b_abs\n",
        "    q = q + 1\n",
        "\n",
        "  if signcheck == 0 or signcheck == 2 :\n",
        "    return q-1\n",
        "  if signcheck == 1 :\n",
        "    return 1-q\n",
        "  \n"
      ],
      "execution_count": 1,
      "outputs": []
    },
    {
      "cell_type": "code",
      "metadata": {
        "id": "KTrgwTXtSkt5",
        "colab_type": "code",
        "colab": {
          "base_uri": "https://localhost:8080/",
          "height": 34
        },
        "outputId": "bf053e39-ebd4-4431-9aa0-1d085fda7771"
      },
      "source": [
        "divider(36,-6)"
      ],
      "execution_count": 4,
      "outputs": [
        {
          "output_type": "execute_result",
          "data": {
            "text/plain": [
              "-6"
            ]
          },
          "metadata": {
            "tags": []
          },
          "execution_count": 4
        }
      ]
    }
  ]
}